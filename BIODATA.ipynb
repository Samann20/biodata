{
  "nbformat": 4,
  "nbformat_minor": 0,
  "metadata": {
    "colab": {
      "provenance": []
    },
    "kernelspec": {
      "name": "python3",
      "display_name": "Python 3"
    },
    "language_info": {
      "name": "python"
    }
  },
  "cells": [
    {
      "cell_type": "code",
      "execution_count": 1,
      "metadata": {
        "colab": {
          "base_uri": "https://localhost:8080/"
        },
        "id": "zxFO49M7mBUX",
        "outputId": "31aeb74b-9052-4277-f71c-16bc8910d9db"
      },
      "outputs": [
        {
          "name": "stdout",
          "output_type": "stream",
          "text": [
            "-------biodata-------\n",
            "enter your name: Saman\n",
            "enter your father name: Imran kazmi\n",
            "enter your age: 18\n",
            "enter your email: saman00@gmail.com\n",
            "enter your phone number: 0334251000\n",
            "enter your address: A00 sector 11o north karachi\n",
            "enter your matric grade: A\n",
            "enter ypur inter grade: A\n"
          ]
        }
      ],
      "source": [
        "print(\"-------biodata-------\")\n",
        "name=str(input(\"enter your name: \"))\n",
        "name=str(input(\"enter your father name: \"))\n",
        "name=str(input(\"enter your age: \"))\n",
        "name=str(input(\"enter your email: \" ))\n",
        "name=str(input(\"enter your phone number: \"))\n",
        "name=str(input(\"enter your address: \"))\n",
        "name=str(input(\"enter your matric grade: \"))\n",
        "name=str(input(\"enter ypur inter grade: \"))"
      ]
    }
  ]
}